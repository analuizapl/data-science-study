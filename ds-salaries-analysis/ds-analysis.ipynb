{
 "cells": [
  {
   "cell_type": "code",
   "execution_count": 1,
   "id": "0dd445a1",
   "metadata": {},
   "outputs": [],
   "source": [
    "import pandas as pd\n",
    "import matplotlib.pyplot as plt\n",
    "import seaborn as sns \n",
    "\n",
    "# Load the CSV file\n",
    "df = pd.read_csv('ds_salaries.csv')"
   ]
  },
  {
   "cell_type": "code",
   "execution_count": 2,
   "id": "f93d6013",
   "metadata": {},
   "outputs": [
    {
     "name": "stdout",
     "output_type": "stream",
     "text": [
      "First 5 rows of the dataset:\n"
     ]
    },
    {
     "data": {
      "text/html": [
       "<div>\n",
       "<style scoped>\n",
       "    .dataframe tbody tr th:only-of-type {\n",
       "        vertical-align: middle;\n",
       "    }\n",
       "\n",
       "    .dataframe tbody tr th {\n",
       "        vertical-align: top;\n",
       "    }\n",
       "\n",
       "    .dataframe thead th {\n",
       "        text-align: right;\n",
       "    }\n",
       "</style>\n",
       "<table border=\"1\" class=\"dataframe\">\n",
       "  <thead>\n",
       "    <tr style=\"text-align: right;\">\n",
       "      <th></th>\n",
       "      <th>Unnamed: 0</th>\n",
       "      <th>work_year</th>\n",
       "      <th>experience_level</th>\n",
       "      <th>employment_type</th>\n",
       "      <th>job_title</th>\n",
       "      <th>salary</th>\n",
       "      <th>salary_currency</th>\n",
       "      <th>salary_in_usd</th>\n",
       "      <th>employee_residence</th>\n",
       "      <th>remote_ratio</th>\n",
       "      <th>company_location</th>\n",
       "      <th>company_size</th>\n",
       "    </tr>\n",
       "  </thead>\n",
       "  <tbody>\n",
       "    <tr>\n",
       "      <th>0</th>\n",
       "      <td>0</td>\n",
       "      <td>2020</td>\n",
       "      <td>MI</td>\n",
       "      <td>FT</td>\n",
       "      <td>Data Scientist</td>\n",
       "      <td>70000</td>\n",
       "      <td>EUR</td>\n",
       "      <td>79833</td>\n",
       "      <td>DE</td>\n",
       "      <td>0</td>\n",
       "      <td>DE</td>\n",
       "      <td>L</td>\n",
       "    </tr>\n",
       "    <tr>\n",
       "      <th>1</th>\n",
       "      <td>1</td>\n",
       "      <td>2020</td>\n",
       "      <td>SE</td>\n",
       "      <td>FT</td>\n",
       "      <td>Machine Learning Scientist</td>\n",
       "      <td>260000</td>\n",
       "      <td>USD</td>\n",
       "      <td>260000</td>\n",
       "      <td>JP</td>\n",
       "      <td>0</td>\n",
       "      <td>JP</td>\n",
       "      <td>S</td>\n",
       "    </tr>\n",
       "    <tr>\n",
       "      <th>2</th>\n",
       "      <td>2</td>\n",
       "      <td>2020</td>\n",
       "      <td>SE</td>\n",
       "      <td>FT</td>\n",
       "      <td>Big Data Engineer</td>\n",
       "      <td>85000</td>\n",
       "      <td>GBP</td>\n",
       "      <td>109024</td>\n",
       "      <td>GB</td>\n",
       "      <td>50</td>\n",
       "      <td>GB</td>\n",
       "      <td>M</td>\n",
       "    </tr>\n",
       "    <tr>\n",
       "      <th>3</th>\n",
       "      <td>3</td>\n",
       "      <td>2020</td>\n",
       "      <td>MI</td>\n",
       "      <td>FT</td>\n",
       "      <td>Product Data Analyst</td>\n",
       "      <td>20000</td>\n",
       "      <td>USD</td>\n",
       "      <td>20000</td>\n",
       "      <td>HN</td>\n",
       "      <td>0</td>\n",
       "      <td>HN</td>\n",
       "      <td>S</td>\n",
       "    </tr>\n",
       "    <tr>\n",
       "      <th>4</th>\n",
       "      <td>4</td>\n",
       "      <td>2020</td>\n",
       "      <td>SE</td>\n",
       "      <td>FT</td>\n",
       "      <td>Machine Learning Engineer</td>\n",
       "      <td>150000</td>\n",
       "      <td>USD</td>\n",
       "      <td>150000</td>\n",
       "      <td>US</td>\n",
       "      <td>50</td>\n",
       "      <td>US</td>\n",
       "      <td>L</td>\n",
       "    </tr>\n",
       "  </tbody>\n",
       "</table>\n",
       "</div>"
      ],
      "text/plain": [
       "   Unnamed: 0  work_year experience_level employment_type  \\\n",
       "0           0       2020               MI              FT   \n",
       "1           1       2020               SE              FT   \n",
       "2           2       2020               SE              FT   \n",
       "3           3       2020               MI              FT   \n",
       "4           4       2020               SE              FT   \n",
       "\n",
       "                    job_title  salary salary_currency  salary_in_usd  \\\n",
       "0              Data Scientist   70000             EUR          79833   \n",
       "1  Machine Learning Scientist  260000             USD         260000   \n",
       "2           Big Data Engineer   85000             GBP         109024   \n",
       "3        Product Data Analyst   20000             USD          20000   \n",
       "4   Machine Learning Engineer  150000             USD         150000   \n",
       "\n",
       "  employee_residence  remote_ratio company_location company_size  \n",
       "0                 DE             0               DE            L  \n",
       "1                 JP             0               JP            S  \n",
       "2                 GB            50               GB            M  \n",
       "3                 HN             0               HN            S  \n",
       "4                 US            50               US            L  "
      ]
     },
     "execution_count": 2,
     "metadata": {},
     "output_type": "execute_result"
    }
   ],
   "source": [
    "# Display the first 5 rows of the dataset\n",
    "print(\"First 5 rows of the dataset:\")\n",
    "df.head()"
   ]
  },
  {
   "cell_type": "code",
   "execution_count": 3,
   "id": "a2f0c9c0",
   "metadata": {},
   "outputs": [
    {
     "data": {
      "text/html": [
       "<div>\n",
       "<style scoped>\n",
       "    .dataframe tbody tr th:only-of-type {\n",
       "        vertical-align: middle;\n",
       "    }\n",
       "\n",
       "    .dataframe tbody tr th {\n",
       "        vertical-align: top;\n",
       "    }\n",
       "\n",
       "    .dataframe thead th {\n",
       "        text-align: right;\n",
       "    }\n",
       "</style>\n",
       "<table border=\"1\" class=\"dataframe\">\n",
       "  <thead>\n",
       "    <tr style=\"text-align: right;\">\n",
       "      <th></th>\n",
       "      <th>work_year</th>\n",
       "      <th>experience_level</th>\n",
       "      <th>employment_type</th>\n",
       "      <th>job_title</th>\n",
       "      <th>salary_in_usd</th>\n",
       "      <th>employee_residence</th>\n",
       "      <th>remote_ratio</th>\n",
       "      <th>company_location</th>\n",
       "      <th>company_size</th>\n",
       "    </tr>\n",
       "  </thead>\n",
       "  <tbody>\n",
       "    <tr>\n",
       "      <th>0</th>\n",
       "      <td>2020</td>\n",
       "      <td>MI</td>\n",
       "      <td>FT</td>\n",
       "      <td>Data Scientist</td>\n",
       "      <td>79833</td>\n",
       "      <td>DE</td>\n",
       "      <td>0</td>\n",
       "      <td>DE</td>\n",
       "      <td>L</td>\n",
       "    </tr>\n",
       "    <tr>\n",
       "      <th>1</th>\n",
       "      <td>2020</td>\n",
       "      <td>SE</td>\n",
       "      <td>FT</td>\n",
       "      <td>Machine Learning Scientist</td>\n",
       "      <td>260000</td>\n",
       "      <td>JP</td>\n",
       "      <td>0</td>\n",
       "      <td>JP</td>\n",
       "      <td>S</td>\n",
       "    </tr>\n",
       "    <tr>\n",
       "      <th>2</th>\n",
       "      <td>2020</td>\n",
       "      <td>SE</td>\n",
       "      <td>FT</td>\n",
       "      <td>Big Data Engineer</td>\n",
       "      <td>109024</td>\n",
       "      <td>GB</td>\n",
       "      <td>50</td>\n",
       "      <td>GB</td>\n",
       "      <td>M</td>\n",
       "    </tr>\n",
       "    <tr>\n",
       "      <th>3</th>\n",
       "      <td>2020</td>\n",
       "      <td>MI</td>\n",
       "      <td>FT</td>\n",
       "      <td>Product Data Analyst</td>\n",
       "      <td>20000</td>\n",
       "      <td>HN</td>\n",
       "      <td>0</td>\n",
       "      <td>HN</td>\n",
       "      <td>S</td>\n",
       "    </tr>\n",
       "    <tr>\n",
       "      <th>4</th>\n",
       "      <td>2020</td>\n",
       "      <td>SE</td>\n",
       "      <td>FT</td>\n",
       "      <td>Machine Learning Engineer</td>\n",
       "      <td>150000</td>\n",
       "      <td>US</td>\n",
       "      <td>50</td>\n",
       "      <td>US</td>\n",
       "      <td>L</td>\n",
       "    </tr>\n",
       "  </tbody>\n",
       "</table>\n",
       "</div>"
      ],
      "text/plain": [
       "   work_year experience_level employment_type                   job_title  \\\n",
       "0       2020               MI              FT              Data Scientist   \n",
       "1       2020               SE              FT  Machine Learning Scientist   \n",
       "2       2020               SE              FT           Big Data Engineer   \n",
       "3       2020               MI              FT        Product Data Analyst   \n",
       "4       2020               SE              FT   Machine Learning Engineer   \n",
       "\n",
       "   salary_in_usd employee_residence  remote_ratio company_location  \\\n",
       "0          79833                 DE             0               DE   \n",
       "1         260000                 JP             0               JP   \n",
       "2         109024                 GB            50               GB   \n",
       "3          20000                 HN             0               HN   \n",
       "4         150000                 US            50               US   \n",
       "\n",
       "  company_size  \n",
       "0            L  \n",
       "1            S  \n",
       "2            M  \n",
       "3            S  \n",
       "4            L  "
      ]
     },
     "execution_count": 3,
     "metadata": {},
     "output_type": "execute_result"
    }
   ],
   "source": [
    "# Drop some unnecessary columns\n",
    "df.drop(['Unnamed: 0', 'salary', 'salary_currency'], axis=1, inplace=True)\n",
    "df.head()"
   ]
  },
  {
   "cell_type": "code",
   "execution_count": 4,
   "id": "e842f525",
   "metadata": {},
   "outputs": [
    {
     "name": "stdout",
     "output_type": "stream",
     "text": [
      "<class 'pandas.core.frame.DataFrame'>\n",
      "RangeIndex: 607 entries, 0 to 606\n",
      "Data columns (total 9 columns):\n",
      " #   Column              Non-Null Count  Dtype \n",
      "---  ------              --------------  ----- \n",
      " 0   work_year           607 non-null    int64 \n",
      " 1   experience_level    607 non-null    object\n",
      " 2   employment_type     607 non-null    object\n",
      " 3   job_title           607 non-null    object\n",
      " 4   salary_in_usd       607 non-null    int64 \n",
      " 5   employee_residence  607 non-null    object\n",
      " 6   remote_ratio        607 non-null    int64 \n",
      " 7   company_location    607 non-null    object\n",
      " 8   company_size        607 non-null    object\n",
      "dtypes: int64(3), object(6)\n",
      "memory usage: 42.8+ KB\n"
     ]
    }
   ],
   "source": [
    "# Display information about the dataset\n",
    "df.info()"
   ]
  },
  {
   "cell_type": "code",
   "execution_count": 6,
   "id": "a78b2d9c",
   "metadata": {
    "scrolled": true
   },
   "outputs": [
    {
     "name": "stdout",
     "output_type": "stream",
     "text": [
      "Statistics:\n",
      "         work_year  salary_in_usd  remote_ratio\n",
      "count   607.000000     607.000000     607.00000\n",
      "mean   2021.405272  112297.869852      70.92257\n",
      "std       0.692133   70957.259411      40.70913\n",
      "min    2020.000000    2859.000000       0.00000\n",
      "25%    2021.000000   62726.000000      50.00000\n",
      "50%    2022.000000  101570.000000     100.00000\n",
      "75%    2022.000000  150000.000000     100.00000\n",
      "max    2022.000000  600000.000000     100.00000\n"
     ]
    }
   ],
   "source": [
    "# Print statistics of numerical columns\n",
    "print(\"Statistics:\")\n",
    "print(df.describe())"
   ]
  },
  {
   "cell_type": "code",
   "execution_count": 7,
   "id": "0726aa33",
   "metadata": {},
   "outputs": [
    {
     "name": "stdout",
     "output_type": "stream",
     "text": [
      "Number of rows: 607\n",
      "Number of attributes: 9\n"
     ]
    }
   ],
   "source": [
    "# Count the number of rows and columns in the dataset\n",
    "num_rows, num_cols = df.shape\n",
    "\n",
    "print(f\"Number of rows: {num_rows}\")\n",
    "print(f\"Number of attributes: {num_cols}\")"
   ]
  },
  {
   "cell_type": "code",
   "execution_count": 8,
   "id": "832ee5e5",
   "metadata": {},
   "outputs": [
    {
     "name": "stdout",
     "output_type": "stream",
     "text": [
      "Average salary: 112297.87\n",
      "Highest salary: 600000.00\n",
      "Lowest salary: 2859.00\n"
     ]
    }
   ],
   "source": [
    "# Calculate the average salary\n",
    "average_salary = df['salary_in_usd'].mean()\n",
    "print(f\"Average salary: {average_salary:.2f}\")\n",
    "\n",
    "# Find the highest salary\n",
    "max_salary = df['salary_in_usd'].max()\n",
    "print(f\"Highest salary: {max_salary:.2f}\")\n",
    "\n",
    "# Find the lowest salary\n",
    "min_salary = df['salary_in_usd'].min()\n",
    "print(f\"Lowest salary: {min_salary:.2f}\")\n"
   ]
  },
  {
   "cell_type": "code",
   "execution_count": 9,
   "id": "84b0ba8f",
   "metadata": {},
   "outputs": [
    {
     "data": {
      "image/png": "[encoded data removed]",
      "text/plain": [
       "<Figure size 432x288 with 1 Axes>"
      ]
     },
     "metadata": {
      "needs_background": "light"
     },
     "output_type": "display_data"
    }
   ],
   "source": [
    "# Plot a histogram of salaries\n",
    "plt.hist(df['salary_in_usd'], bins=20, color='skyblue')\n",
    "plt.xlabel('salary_in_usd')\n",
    "plt.ylabel('Frequency')\n",
    "plt.title('Distribution of Salaries')\n",
    "plt.show()\n"
   ]
  },
  {
   "cell_type": "code",
   "execution_count": 10,
   "id": "70da6a9a",
   "metadata": {},
   "outputs": [
    {
     "data": {
      "image/png": "[encoded data removed]",
      "text/plain": [
       "<Figure size 432x288 with 1 Axes>"
      ]
     },
     "metadata": {
      "needs_background": "light"
     },
     "output_type": "display_data"
    }
   ],
   "source": [
    "# Create a box plot of salaries\n",
    "plt.boxplot(df['salary_in_usd'])\n",
    "plt.ylabel('salary_in_usd')\n",
    "plt.title('Box Plot of Salaries')\n",
    "plt.show()\n"
   ]
  },
  {
   "cell_type": "code",
   "execution_count": 38,
   "id": "c834621a",
   "metadata": {},
   "outputs": [
    {
     "data": {
      "text/plain": [
       "array(['Full Time', 'Contract', 'Part Time', 'Freelance'], dtype=object)"
      ]
     },
     "execution_count": 38,
     "metadata": {},
     "output_type": "execute_result"
    }
   ],
   "source": [
    "# Display the updated unique values in the 'employment_type' column\n",
    "df['employment_type'].unique()"
   ]
  },
  {
   "cell_type": "code",
   "execution_count": 39,
   "id": "61b2cca3",
   "metadata": {},
   "outputs": [
    {
     "data": {
      "text/plain": [
       "array(['Data Scientist', 'Machine Learning Scientist',\n",
       "       'Big Data Engineer', 'Data Analyst', 'Machine Learning Engineer',\n",
       "       'Data Engineer', 'Research Scientist', 'AI Scientist',\n",
       "       'Computer Vision Engineer', 'Cloud Data Engineer',\n",
       "       'Data Architect', 'Big Data Architect', 'NLP Engineer'],\n",
       "      dtype=object)"
      ]
     },
     "execution_count": 39,
     "metadata": {},
     "output_type": "execute_result"
    }
   ],
   "source": [
    "# Display the unique job titles in the 'job_title' column\n",
    "df['job_title'].unique()"
   ]
  },
  {
   "cell_type": "code",
   "execution_count": 23,
   "id": "26bec577",
   "metadata": {},
   "outputs": [],
   "source": [
    "# Dictionary for replacements\n",
    "job_title_map = {'Data Scientist': 'Data Scientist', \n",
    "                 'Machine Learning Scientist': 'Machine Learning Scientist', \n",
    "                 'Big Data Engineer': 'Big Data Engineer', \n",
    "                 'Product Data Analyst': 'Data Analyst', \n",
    "                 'Machine Learning Engineer': 'Machine Learning Engineer', \n",
    "                 'Data Analyst': 'Data Analyst', \n",
    "                 'Lead Data Scientist': 'Data Scientist', \n",
    "                 'Business Data Analyst': 'Data Analyst', \n",
    "                 'Lead Data Engineer': 'Data Engineer', \n",
    "                 'Lead Data Analyst': 'Data Analyst', \n",
    "                 'Data Engineer': 'Data Engineer', \n",
    "                 'Data Science Consultant': 'Data Scientist', \n",
    "                 'BI Data Analyst': 'Data Analyst', \n",
    "                 'Director of Data Science': 'Data Scientist', \n",
    "                 'Research Scientist': 'Research Scientist', \n",
    "                 'Machine Learning Manager': 'Machine Learning Scientist', \n",
    "                 'Data Engineering Manager': 'Data Engineer', \n",
    "                 'Machine Learning Infrastructure Engineer': \n",
    "                 'Machine Learning Engineer', 'ML Engineer': \n",
    "                 'Machine Learning Engineer', 'AI Scientist': \n",
    "                 'AI Scientist', 'Computer Vision Engineer': \n",
    "                 'Computer Vision Engineer', 'Principal Data Scientist': \n",
    "                 'Data Scientist', 'Data Science Manager': 'Data Scientist', \n",
    "                 'Head of Data': 'Data Scientist', '3D Computer Vision Researcher': \n",
    "                 'Computer Vision Engineer', 'Data Analytics Engineer': 'Data Analyst', \n",
    "                 'Applied Data Scientist': 'Data Scientist', \n",
    "                 'Marketing Data Analyst': 'Data Analyst', \n",
    "                 'Cloud Data Engineer': 'Cloud Data Engineer', \n",
    "                 'Financial Data Analyst': 'Data Analyst', \n",
    "                 'Computer Vision Software Engineer': 'Computer Vision Engineer', \n",
    "                 'Director of Data Engineering': 'Data Engineer', \n",
    "                 'Data Science Engineer': 'Data Scientist', \n",
    "                 'Principal Data Engineer': 'Data Engineer', \n",
    "                 'Machine Learning Developer': 'Machine Learning Engineer', \n",
    "                 'Applied Machine Learning Scientist': 'Machine Learning Scientist', \n",
    "                 'Data Analytics Manager': 'Data Analyst', \n",
    "                 'Head of Data Science': 'Data Scientist', \n",
    "                 'Data Specialist': 'Data Scientist', \n",
    "                 'Data Architect': 'Data Architect', \n",
    "                 'Finance Data Analyst': 'Data Analyst', \n",
    "                 'Principal Data Analyst': 'Data Analyst', \n",
    "                 'Big Data Architect': 'Big Data Architect', \n",
    "                 'Staff Data Scientist': 'Data Scientist', \n",
    "                 'Analytics Engineer': 'Data Analyst', \n",
    "                 'ETL Developer': 'Data Engineer', \n",
    "                 'Head of Machine Learning': 'Machine Learning Scientist', \n",
    "                 'NLP Engineer': 'NLP Engineer', \n",
    "                 'Lead Machine Learning Engineer': 'Machine Learning Engineer', \n",
    "                 'Data Analytics Lead': 'Data Analyst'}\n",
    "\n",
    "experience_level_map = {\n",
    "    'EN': 'Entry level',\n",
    "    'MI': 'Mid level',\n",
    "    'SE': 'Senior',\n",
    "    'EX': 'Executive',\n",
    "}\n",
    "\n",
    "employment_type_map = {\n",
    "    'PT': 'Part Time',\n",
    "    'FT': 'Full Time',\n",
    "    'CT': 'Contract',\n",
    "    'FL': 'Freelance',\n",
    "}\n",
    "\n",
    "remote_ratio_map = {\n",
    "    0: 'On-site',\n",
    "    50: 'Hybrid',\n",
    "    100: 'Full Remote'\n",
    "}\n",
    "\n",
    "company_size_map = {\n",
    "    'S': 'Small',\n",
    "    'M': 'Medium',\n",
    "    'L': 'Large'\n",
    "}"
   ]
  },
  {
   "cell_type": "code",
   "execution_count": 24,
   "id": "8b533646",
   "metadata": {},
   "outputs": [],
   "source": [
    "# Function to replace values in columns using a mapping dictionary\n",
    "def replace_values(column, mapping):\n",
    "    df[column] = df[column].replace(mapping)\n",
    "\n",
    "# Replace values using the mapping dictionaries\n",
    "replace_values('job_title', job_title_map)\n",
    "replace_values('experience_level', experience_level_map)\n",
    "replace_values('employment_type', employment_type_map)\n",
    "replace_values('company_size', company_size_map)\n",
    "replace_values('remote_ratio', remote_ratio_map)"
   ]
  },
  {
   "cell_type": "code",
   "execution_count": 25,
   "id": "6a4f1dd8",
   "metadata": {},
   "outputs": [
    {
     "data": {
      "text/html": [
       "<div>\n",
       "<style scoped>\n",
       "    .dataframe tbody tr th:only-of-type {\n",
       "        vertical-align: middle;\n",
       "    }\n",
       "\n",
       "    .dataframe tbody tr th {\n",
       "        vertical-align: top;\n",
       "    }\n",
       "\n",
       "    .dataframe thead th {\n",
       "        text-align: right;\n",
       "    }\n",
       "</style>\n",
       "<table border=\"1\" class=\"dataframe\">\n",
       "  <thead>\n",
       "    <tr style=\"text-align: right;\">\n",
       "      <th></th>\n",
       "      <th>work_year</th>\n",
       "      <th>experience_level</th>\n",
       "      <th>employment_type</th>\n",
       "      <th>job_title</th>\n",
       "      <th>salary_in_usd</th>\n",
       "      <th>employee_residence</th>\n",
       "      <th>remote_ratio</th>\n",
       "      <th>company_location</th>\n",
       "      <th>company_size</th>\n",
       "    </tr>\n",
       "  </thead>\n",
       "  <tbody>\n",
       "    <tr>\n",
       "      <th>0</th>\n",
       "      <td>2020</td>\n",
       "      <td>Mid level</td>\n",
       "      <td>Full Time</td>\n",
       "      <td>Data Scientist</td>\n",
       "      <td>79833</td>\n",
       "      <td>DE</td>\n",
       "      <td>On-site</td>\n",
       "      <td>DE</td>\n",
       "      <td>Large</td>\n",
       "    </tr>\n",
       "    <tr>\n",
       "      <th>1</th>\n",
       "      <td>2020</td>\n",
       "      <td>Senior</td>\n",
       "      <td>Full Time</td>\n",
       "      <td>Machine Learning Scientist</td>\n",
       "      <td>260000</td>\n",
       "      <td>JP</td>\n",
       "      <td>On-site</td>\n",
       "      <td>JP</td>\n",
       "      <td>Small</td>\n",
       "    </tr>\n",
       "    <tr>\n",
       "      <th>2</th>\n",
       "      <td>2020</td>\n",
       "      <td>Senior</td>\n",
       "      <td>Full Time</td>\n",
       "      <td>Big Data Engineer</td>\n",
       "      <td>109024</td>\n",
       "      <td>GB</td>\n",
       "      <td>Hybrid</td>\n",
       "      <td>GB</td>\n",
       "      <td>Medium</td>\n",
       "    </tr>\n",
       "    <tr>\n",
       "      <th>3</th>\n",
       "      <td>2020</td>\n",
       "      <td>Mid level</td>\n",
       "      <td>Full Time</td>\n",
       "      <td>Data Analyst</td>\n",
       "      <td>20000</td>\n",
       "      <td>HN</td>\n",
       "      <td>On-site</td>\n",
       "      <td>HN</td>\n",
       "      <td>Small</td>\n",
       "    </tr>\n",
       "    <tr>\n",
       "      <th>4</th>\n",
       "      <td>2020</td>\n",
       "      <td>Senior</td>\n",
       "      <td>Full Time</td>\n",
       "      <td>Machine Learning Engineer</td>\n",
       "      <td>150000</td>\n",
       "      <td>US</td>\n",
       "      <td>Hybrid</td>\n",
       "      <td>US</td>\n",
       "      <td>Large</td>\n",
       "    </tr>\n",
       "  </tbody>\n",
       "</table>\n",
       "</div>"
      ],
      "text/plain": [
       "   work_year experience_level employment_type                   job_title  \\\n",
       "0       2020        Mid level       Full Time              Data Scientist   \n",
       "1       2020           Senior       Full Time  Machine Learning Scientist   \n",
       "2       2020           Senior       Full Time           Big Data Engineer   \n",
       "3       2020        Mid level       Full Time                Data Analyst   \n",
       "4       2020           Senior       Full Time   Machine Learning Engineer   \n",
       "\n",
       "   salary_in_usd employee_residence remote_ratio company_location company_size  \n",
       "0          79833                 DE      On-site               DE        Large  \n",
       "1         260000                 JP      On-site               JP        Small  \n",
       "2         109024                 GB       Hybrid               GB       Medium  \n",
       "3          20000                 HN      On-site               HN        Small  \n",
       "4         150000                 US       Hybrid               US        Large  "
      ]
     },
     "execution_count": 25,
     "metadata": {},
     "output_type": "execute_result"
    }
   ],
   "source": [
    "df.head()"
   ]
  },
  {
   "cell_type": "code",
   "execution_count": 14,
   "id": "6ce0b273",
   "metadata": {},
   "outputs": [
    {
     "data": {
      "text/plain": [
       "work_year        False\n",
       "salary_in_usd    False\n",
       "dtype: bool"
      ]
     },
     "execution_count": 14,
     "metadata": {},
     "output_type": "execute_result"
    }
   ],
   "source": [
    "# Check if there are any missing values in 'work_year' and 'salary_in_usd' columns\n",
    "df[['work_year','salary_in_usd']].isna().any()"
   ]
  },
  {
   "cell_type": "code",
   "execution_count": 26,
   "id": "e32b0ebc",
   "metadata": {},
   "outputs": [
    {
     "data": {
      "text/plain": [
       "Senior         280\n",
       "Mid level      213\n",
       "Entry level     88\n",
       "Executive       26\n",
       "Name: experience_level, dtype: int64"
      ]
     },
     "execution_count": 26,
     "metadata": {},
     "output_type": "execute_result"
    }
   ],
   "source": [
    "# Count the number of occurrences of each 'experience_level'\n",
    "count = df['experience_level'].value_counts()\n",
    "count"
   ]
  },
  {
   "cell_type": "code",
   "execution_count": 36,
   "id": "819023ac",
   "metadata": {},
   "outputs": [
    {
     "data": {
      "text/plain": [
       "<AxesSubplot:ylabel='experience_level'>"
      ]
     },
     "execution_count": 36,
     "metadata": {},
     "output_type": "execute_result"
    },
    {
     "data": {
      "image/png": "[encoded data removed]",
      "text/plain": [
       "<Figure size 864x432 with 1 Axes>"
      ]
     },
     "metadata": {},
     "output_type": "display_data"
    }
   ],
   "source": [
    "# Plot a pie chart to visualize the distribution of 'experience_level'\n",
    "total = len(count)\n",
    "df['experience_level'].value_counts().plot(kind='pie', figsize=(12,6), autopct= '%1.1f%%')"
   ]
  },
  {
   "cell_type": "code",
   "execution_count": 41,
   "id": "043acdb0",
   "metadata": {},
   "outputs": [
    {
     "data": {
      "text/plain": [
       "Text(0.5, 1.0, 'Employment type')"
      ]
     },
     "execution_count": 41,
     "metadata": {},
     "output_type": "execute_result"
    },
    {
     "data": {
      "image/png": "[encoded data removed]",
      "text/plain": [
       "<Figure size 432x288 with 1 Axes>"
      ]
     },
     "metadata": {
      "needs_background": "light"
     },
     "output_type": "display_data"
    }
   ],
   "source": [
    "count = df['employment_type'].value_counts()\n",
    "\n",
    "# bar chart\n",
    "sns.barplot(x=count.values, y=count.index)\n",
    "plt.xlabel('count')\n",
    "plt.ylabel('Employment type')\n",
    "plt.title('Employment type')"
   ]
  },
  {
   "cell_type": "code",
   "execution_count": 44,
   "id": "2dcc0045",
   "metadata": {},
   "outputs": [
    {
     "data": {
      "image/png": "[encoded data removed]",
      "text/plain": [
       "<Figure size 720x720 with 1 Axes>"
      ]
     },
     "metadata": {
      "needs_background": "light"
     },
     "output_type": "display_data"
    }
   ],
   "source": [
    "# top 10 roles who earns more\n",
    "biggest_salary = df['job_title'].value_counts()\n",
    "x = biggest_salary.index\n",
    "y = biggest_salary.values\n",
    "\n",
    "# plot bar chart\n",
    "plt.figure(figsize=(10,10))\n",
    "z = plt.bar(x, y, width=0.5)\n",
    "plt.bar_label(z, labels=y)\n",
    "\n",
    "\n",
    "plt.title('Biggest salary by job title')\n",
    "plt.ylabel('Job title')\n",
    "plt.ylabel('counts')\n",
    "plt.xticks(rotation=90)\n",
    "plt.show()"
   ]
  }
 ],
 "metadata": {
  "kernelspec": {
   "display_name": "Python 3 (ipykernel)",
   "language": "python",
   "name": "python3"
  },
  "language_info": {
   "codemirror_mode": {
    "name": "ipython",
    "version": 3
   },
   "file_extension": ".py",
   "mimetype": "text/x-python",
   "name": "python",
   "nbconvert_exporter": "python",
   "pygments_lexer": "ipython3",
   "version": "3.9.7"
  }
 },
 "nbformat": 4,
 "nbformat_minor": 5
}
